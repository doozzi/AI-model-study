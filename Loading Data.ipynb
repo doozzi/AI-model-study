{
 "cells": [
  {
   "cell_type": "code",
   "execution_count": 14,
   "id": "fd5693d0",
   "metadata": {},
   "outputs": [],
   "source": [
    "import torch\n",
    "from torch import optim"
   ]
  },
  {
   "cell_type": "code",
   "execution_count": 9,
   "id": "00abedad",
   "metadata": {},
   "outputs": [],
   "source": [
    "import torch.nn as nn\n",
    "import torch.nn.functional as F\n",
    "\n",
    "class MultivariateLinearRegressionModel(nn.Module):\n",
    "    def __init__(self):\n",
    "        super().__init__()\n",
    "        self.linear = nn.Linear(3, 1)\n",
    " \n",
    "    def forward(self, x):\n",
    "        return self.linear(x)"
   ]
  },
  {
   "cell_type": "code",
   "execution_count": 1,
   "id": "06af2210",
   "metadata": {},
   "outputs": [],
   "source": [
    "from torch.utils.data import Dataset\n",
    "\n",
    "class CustomDataset(Dataset):\n",
    "    def __init__(self):\n",
    "        self.x_data = [[73, 80, 75],\n",
    "                       [93, 88, 93],\n",
    "                       [89, 91, 90],\n",
    "                       [96, 98, 100],\n",
    "                       [73, 66, 70]]\n",
    "        self.y_data = [[152], [185], [180], [196], [142]]\n",
    " \n",
    "    def __len__(self):\n",
    "        return len(self.x_data)\n",
    " \n",
    "    def __getitem__(self, idx):\n",
    "        x = torch.FloatTensor(self.x_data[idx])\n",
    "        y = torch.FloatTensor(self.y_data[idx])\n",
    "        return x, y\n",
    "\n",
    "    \n",
    "dataset = CustomDataset()"
   ]
  },
  {
   "cell_type": "code",
   "execution_count": 2,
   "id": "54e7f690",
   "metadata": {},
   "outputs": [],
   "source": [
    "from torch.utils.data import DataLoader\n",
    "\n",
    "dataloader = DataLoader(\n",
    "    dataset,\n",
    "    batch_size=2,\n",
    "    shuffle=True,\n",
    ")\n"
   ]
  },
  {
   "cell_type": "code",
   "execution_count": 16,
   "id": "fac8b022",
   "metadata": {},
   "outputs": [],
   "source": [
    "# 모델 초기화\n",
    "model = MultivariateLinearRegressionModel()\n",
    "\n",
    "# 모델 초기화\n",
    "W = torch.zeros((3, 1), requires_grad=True)\n",
    "b = torch.zeros(1, requires_grad=True)\n",
    "\n",
    "# optimizer 설정\n",
    "optimizer = optim.SGD([W, b], lr=1e-5)"
   ]
  },
  {
   "cell_type": "code",
   "execution_count": 17,
   "id": "f74bbf55",
   "metadata": {},
   "outputs": [
    {
     "name": "stdout",
     "output_type": "stream",
     "text": [
      "Epoch    0/20 Batch 1/3 Cost: 47678.167969\n",
      "Epoch    0/20 Batch 2/3 Cost: 45989.023438\n",
      "Epoch    0/20 Batch 3/3 Cost: 55261.109375\n",
      "Epoch    1/20 Batch 1/3 Cost: 42896.304688\n",
      "Epoch    1/20 Batch 2/3 Cost: 59114.160156\n",
      "Epoch    1/20 Batch 3/3 Cost: 38574.558594\n",
      "Epoch    2/20 Batch 1/3 Cost: 45989.023438\n",
      "Epoch    2/20 Batch 2/3 Cost: 43825.117188\n",
      "Epoch    2/20 Batch 3/3 Cost: 62967.210938\n",
      "Epoch    3/20 Batch 1/3 Cost: 54332.296875\n",
      "Epoch    3/20 Batch 2/3 Cost: 50770.882812\n",
      "Epoch    3/20 Batch 3/3 Cost: 32389.125000\n",
      "Epoch    4/20 Batch 1/3 Cost: 45989.023438\n",
      "Epoch    4/20 Batch 2/3 Cost: 47678.167969\n",
      "Epoch    4/20 Batch 3/3 Cost: 55261.109375\n",
      "Epoch    5/20 Batch 1/3 Cost: 47678.167969\n",
      "Epoch    5/20 Batch 2/3 Cost: 54332.296875\n",
      "Epoch    5/20 Batch 3/3 Cost: 38574.558594\n",
      "Epoch    6/20 Batch 1/3 Cost: 54332.296875\n",
      "Epoch    6/20 Batch 2/3 Cost: 35481.843750\n",
      "Epoch    6/20 Batch 3/3 Cost: 62967.210938\n",
      "Epoch    7/20 Batch 1/3 Cost: 45989.023438\n",
      "Epoch    7/20 Batch 2/3 Cost: 47678.167969\n",
      "Epoch    7/20 Batch 3/3 Cost: 55261.109375\n",
      "Epoch    8/20 Batch 1/3 Cost: 47678.167969\n",
      "Epoch    8/20 Batch 2/3 Cost: 46917.835938\n",
      "Epoch    8/20 Batch 3/3 Cost: 53403.488281\n",
      "Epoch    9/20 Batch 1/3 Cost: 59114.160156\n",
      "Epoch    9/20 Batch 2/3 Cost: 35481.843750\n",
      "Epoch    9/20 Batch 3/3 Cost: 53403.488281\n",
      "Epoch   10/20 Batch 1/3 Cost: 54332.296875\n",
      "Epoch   10/20 Batch 2/3 Cost: 35481.843750\n",
      "Epoch   10/20 Batch 3/3 Cost: 62967.210938\n",
      "Epoch   11/20 Batch 1/3 Cost: 58185.351562\n",
      "Epoch   11/20 Batch 2/3 Cost: 46917.835938\n",
      "Epoch   11/20 Batch 3/3 Cost: 32389.125000\n",
      "Epoch   12/20 Batch 1/3 Cost: 50770.882812\n",
      "Epoch   12/20 Batch 2/3 Cost: 43825.117188\n",
      "Epoch   12/20 Batch 3/3 Cost: 53403.488281\n",
      "Epoch   13/20 Batch 1/3 Cost: 58185.351562\n",
      "Epoch   13/20 Batch 2/3 Cost: 46917.835938\n",
      "Epoch   13/20 Batch 3/3 Cost: 32389.125000\n",
      "Epoch   14/20 Batch 1/3 Cost: 42896.304688\n",
      "Epoch   14/20 Batch 2/3 Cost: 50770.882812\n",
      "Epoch   14/20 Batch 3/3 Cost: 55261.109375\n",
      "Epoch   15/20 Batch 1/3 Cost: 50770.882812\n",
      "Epoch   15/20 Batch 2/3 Cost: 43825.117188\n",
      "Epoch   15/20 Batch 3/3 Cost: 53403.488281\n",
      "Epoch   16/20 Batch 1/3 Cost: 58185.351562\n",
      "Epoch   16/20 Batch 2/3 Cost: 46917.835938\n",
      "Epoch   16/20 Batch 3/3 Cost: 32389.125000\n",
      "Epoch   17/20 Batch 1/3 Cost: 45989.023438\n",
      "Epoch   17/20 Batch 2/3 Cost: 43825.117188\n",
      "Epoch   17/20 Batch 3/3 Cost: 62967.210938\n",
      "Epoch   18/20 Batch 1/3 Cost: 43825.117188\n",
      "Epoch   18/20 Batch 2/3 Cost: 50770.882812\n",
      "Epoch   18/20 Batch 3/3 Cost: 53403.488281\n",
      "Epoch   19/20 Batch 1/3 Cost: 42896.304688\n",
      "Epoch   19/20 Batch 2/3 Cost: 50770.882812\n",
      "Epoch   19/20 Batch 3/3 Cost: 55261.109375\n",
      "Epoch   20/20 Batch 1/3 Cost: 35481.843750\n",
      "Epoch   20/20 Batch 2/3 Cost: 58185.351562\n",
      "Epoch   20/20 Batch 3/3 Cost: 55261.109375\n"
     ]
    }
   ],
   "source": [
    "nb_epochs = 20\n",
    "\n",
    "for epoch in range(nb_epochs + 1):\n",
    "    for batch_idx, samples in enumerate(dataloader):\n",
    "        x_train, y_train = samples\n",
    "\n",
    "        # H(x) 계산\n",
    "        prediction = model(x_train)\n",
    "\n",
    "        # cost 계산\n",
    "        cost = F.mse_loss(prediction, y_train)\n",
    " \n",
    "        # cost로 H(x) 개선\n",
    "        optimizer.zero_grad()\n",
    "        cost.backward()\n",
    "        optimizer.step()\n",
    " \n",
    "        print('Epoch {:4d}/{} Batch {}/{} Cost: {:.6f}'.format(\n",
    "            epoch, nb_epochs, batch_idx+1, len(dataloader),cost.item()))"
   ]
  },
  {
   "cell_type": "code",
   "execution_count": null,
   "id": "b912257c",
   "metadata": {},
   "outputs": [],
   "source": []
  }
 ],
 "metadata": {
  "kernelspec": {
   "display_name": "Python 3 (ipykernel)",
   "language": "python",
   "name": "python3"
  },
  "language_info": {
   "codemirror_mode": {
    "name": "ipython",
    "version": 3
   },
   "file_extension": ".py",
   "mimetype": "text/x-python",
   "name": "python",
   "nbconvert_exporter": "python",
   "pygments_lexer": "ipython3",
   "version": "3.8.16"
  }
 },
 "nbformat": 4,
 "nbformat_minor": 5
}
