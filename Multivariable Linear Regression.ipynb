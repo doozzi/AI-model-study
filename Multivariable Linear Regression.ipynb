{
 "cells": [
  {
   "cell_type": "code",
   "execution_count": 1,
   "id": "cbc2be25",
   "metadata": {},
   "outputs": [],
   "source": [
    "import torch\n",
    "from torch import optim"
   ]
  },
  {
   "cell_type": "code",
   "execution_count": 32,
   "id": "5fc0a72b",
   "metadata": {},
   "outputs": [],
   "source": [
    "# 데이터\n",
    "x_train = torch.FloatTensor([[73, 80, 75],\n",
    "                             [93, 88, 93],\n",
    "                             [89, 91, 90],\n",
    "                             [96, 98, 100],\n",
    "                             [73, 66, 70]])\n",
    "\n",
    "y_train = torch.FloatTensor([[152], [185], [180], [196], [142]])"
   ]
  },
  {
   "cell_type": "code",
   "execution_count": 33,
   "id": "d9cc707d",
   "metadata": {},
   "outputs": [],
   "source": [
    "# 모델 초기화\n",
    "W = torch.zeros((3, 1), requires_grad=True)\n",
    "b = torch.zeros(1, requires_grad=True)\n",
    "\n",
    "# optimizer 설정\n",
    "optimizer = optim.SGD([W, b], lr=1e-5)"
   ]
  },
  {
   "cell_type": "code",
   "execution_count": 34,
   "id": "a0007492",
   "metadata": {},
   "outputs": [
    {
     "name": "stdout",
     "output_type": "stream",
     "text": [
      "Epoch    0/20 hypothesis: tensor([0., 0., 0., 0., 0.]) Cost: 29661.800781\n",
      "Epoch    1/20 hypothesis: tensor([67.2578, 80.8397, 79.6523, 86.7394, 61.6605]) Cost: 9298.520508\n",
      "Epoch    2/20 hypothesis: tensor([104.9128, 126.0990, 124.2466, 135.3015,  96.1821]) Cost: 2915.712891\n",
      "Epoch    3/20 hypothesis: tensor([125.9942, 151.4381, 149.2133, 162.4896, 115.5097]) Cost: 915.040527\n",
      "Epoch    4/20 hypothesis: tensor([137.7968, 165.6247, 163.1911, 177.7112, 126.3307]) Cost: 287.936005\n",
      "Epoch    5/20 hypothesis: tensor([144.4044, 173.5674, 171.0168, 186.2332, 132.3891]) Cost: 91.371010\n",
      "Epoch    6/20 hypothesis: tensor([148.1035, 178.0144, 175.3980, 191.0042, 135.7812]) Cost: 29.758139\n",
      "Epoch    7/20 hypothesis: tensor([150.1744, 180.5042, 177.8508, 193.6753, 137.6805]) Cost: 10.445305\n",
      "Epoch    8/20 hypothesis: tensor([151.3336, 181.8983, 179.2240, 195.1707, 138.7440]) Cost: 4.391228\n",
      "Epoch    9/20 hypothesis: tensor([151.9824, 182.6789, 179.9928, 196.0079, 139.3396]) Cost: 2.493135\n",
      "Epoch   10/20 hypothesis: tensor([152.3454, 183.1161, 180.4231, 196.4765, 139.6732]) Cost: 1.897688\n",
      "Epoch   11/20 hypothesis: tensor([152.5485, 183.3610, 180.6640, 196.7389, 139.8602]) Cost: 1.710541\n",
      "Epoch   12/20 hypothesis: tensor([152.6620, 183.4982, 180.7988, 196.8857, 139.9651]) Cost: 1.651412\n",
      "Epoch   13/20 hypothesis: tensor([152.7253, 183.5752, 180.8742, 196.9678, 140.0240]) Cost: 1.632387\n",
      "Epoch   14/20 hypothesis: tensor([152.7606, 183.6184, 180.9164, 197.0138, 140.0571]) Cost: 1.625923\n",
      "Epoch   15/20 hypothesis: tensor([152.7802, 183.6427, 180.9399, 197.0395, 140.0759]) Cost: 1.623412\n",
      "Epoch   16/20 hypothesis: tensor([152.7909, 183.6565, 180.9530, 197.0538, 140.0865]) Cost: 1.622141\n",
      "Epoch   17/20 hypothesis: tensor([152.7968, 183.6643, 180.9603, 197.0618, 140.0927]) Cost: 1.621253\n",
      "Epoch   18/20 hypothesis: tensor([152.7999, 183.6688, 180.9644, 197.0662, 140.0963]) Cost: 1.620500\n",
      "Epoch   19/20 hypothesis: tensor([152.8014, 183.6715, 180.9666, 197.0686, 140.0985]) Cost: 1.619770\n",
      "Epoch   20/20 hypothesis: tensor([152.8020, 183.6731, 180.9677, 197.0699, 140.1000]) Cost: 1.619033\n"
     ]
    }
   ],
   "source": [
    "nb_epochs = 20\n",
    "for epoch in range(nb_epochs + 1):\n",
    "    # H(x) 계산\n",
    "    hypothesis = x_train.matmul(W) + b # or .mm or @\n",
    "    \n",
    "    # cost 계산\n",
    "    cost = torch.mean((hypothesis - y_train) ** 2)\n",
    "    \n",
    "    # cost로 H(x) 개선\n",
    "    optimizer.zero_grad()\n",
    "    cost.backward()\n",
    "    optimizer.step()\n",
    " \n",
    "    print('Epoch {:4d}/{} hypothesis: {} Cost: {:.6f}'.format(epoch, nb_epochs, hypothesis.squeeze().detach(),cost.item()))"
   ]
  },
  {
   "cell_type": "code",
   "execution_count": 37,
   "id": "695f457a",
   "metadata": {},
   "outputs": [],
   "source": [
    "import torch.nn as nn\n",
    "import torch.nn.functional as F\n",
    "\n",
    "class MultivariateLinearRegressionModel(nn.Module):\n",
    "    def __init__(self):\n",
    "        super().__init__()\n",
    "        self.linear = nn.Linear(3, 1)\n",
    " \n",
    "    def forward(self, x):\n",
    "        return self.linear(x)"
   ]
  },
  {
   "cell_type": "code",
   "execution_count": 38,
   "id": "3f2cacf4",
   "metadata": {},
   "outputs": [],
   "source": [
    "# 데이터\n",
    "x_train = torch.FloatTensor([[73, 80, 75],\n",
    "                             [93, 88, 93],\n",
    "                             [89, 91, 90],\n",
    "                             [96, 98, 100],\n",
    "                             [73, 66, 70]])\n",
    "\n",
    "y_train = torch.FloatTensor([[152], [185], [180], [196], [142]])\n",
    "\n",
    "# 모델 초기화\n",
    "model = MultivariateLinearRegressionModel()\n",
    "\n",
    "# optimizer 설정\n",
    "optimizer = optim.SGD([W, b], lr=1e-5)"
   ]
  },
  {
   "cell_type": "code",
   "execution_count": 39,
   "id": "a9ae8b9e",
   "metadata": {},
   "outputs": [
    {
     "name": "stdout",
     "output_type": "stream",
     "text": [
      "Epoch    0/20 hypothesis: tensor([-12.5748,  -9.8148, -12.3821, -14.0469,  -5.6450]) Cost: 33593.460938\n",
      "Epoch    1/20 hypothesis: tensor([-12.5748,  -9.8148, -12.3821, -14.0469,  -5.6450]) Cost: 33593.460938\n",
      "Epoch    2/20 hypothesis: tensor([-12.5748,  -9.8148, -12.3821, -14.0469,  -5.6450]) Cost: 33593.460938\n",
      "Epoch    3/20 hypothesis: tensor([-12.5748,  -9.8148, -12.3821, -14.0469,  -5.6450]) Cost: 33593.460938\n",
      "Epoch    4/20 hypothesis: tensor([-12.5748,  -9.8148, -12.3821, -14.0469,  -5.6450]) Cost: 33593.460938\n",
      "Epoch    5/20 hypothesis: tensor([-12.5748,  -9.8148, -12.3821, -14.0469,  -5.6450]) Cost: 33593.460938\n",
      "Epoch    6/20 hypothesis: tensor([-12.5748,  -9.8148, -12.3821, -14.0469,  -5.6450]) Cost: 33593.460938\n",
      "Epoch    7/20 hypothesis: tensor([-12.5748,  -9.8148, -12.3821, -14.0469,  -5.6450]) Cost: 33593.460938\n",
      "Epoch    8/20 hypothesis: tensor([-12.5748,  -9.8148, -12.3821, -14.0469,  -5.6450]) Cost: 33593.460938\n",
      "Epoch    9/20 hypothesis: tensor([-12.5748,  -9.8148, -12.3821, -14.0469,  -5.6450]) Cost: 33593.460938\n",
      "Epoch   10/20 hypothesis: tensor([-12.5748,  -9.8148, -12.3821, -14.0469,  -5.6450]) Cost: 33593.460938\n",
      "Epoch   11/20 hypothesis: tensor([-12.5748,  -9.8148, -12.3821, -14.0469,  -5.6450]) Cost: 33593.460938\n",
      "Epoch   12/20 hypothesis: tensor([-12.5748,  -9.8148, -12.3821, -14.0469,  -5.6450]) Cost: 33593.460938\n",
      "Epoch   13/20 hypothesis: tensor([-12.5748,  -9.8148, -12.3821, -14.0469,  -5.6450]) Cost: 33593.460938\n",
      "Epoch   14/20 hypothesis: tensor([-12.5748,  -9.8148, -12.3821, -14.0469,  -5.6450]) Cost: 33593.460938\n",
      "Epoch   15/20 hypothesis: tensor([-12.5748,  -9.8148, -12.3821, -14.0469,  -5.6450]) Cost: 33593.460938\n",
      "Epoch   16/20 hypothesis: tensor([-12.5748,  -9.8148, -12.3821, -14.0469,  -5.6450]) Cost: 33593.460938\n",
      "Epoch   17/20 hypothesis: tensor([-12.5748,  -9.8148, -12.3821, -14.0469,  -5.6450]) Cost: 33593.460938\n",
      "Epoch   18/20 hypothesis: tensor([-12.5748,  -9.8148, -12.3821, -14.0469,  -5.6450]) Cost: 33593.460938\n",
      "Epoch   19/20 hypothesis: tensor([-12.5748,  -9.8148, -12.3821, -14.0469,  -5.6450]) Cost: 33593.460938\n",
      "Epoch   20/20 hypothesis: tensor([-12.5748,  -9.8148, -12.3821, -14.0469,  -5.6450]) Cost: 33593.460938\n"
     ]
    }
   ],
   "source": [
    "nb_epochs = 20\n",
    "for epoch in range(nb_epochs + 1):\n",
    "    # H(x) 계산\n",
    "    hypothesis = model(x_train)\n",
    "    \n",
    "    # cost 계산\n",
    "    cost = F.mse_loss(hypothesis, y_train)\n",
    "    \n",
    "    # cost로 H(x) 개선\n",
    "    optimizer.zero_grad()\n",
    "    cost.backward()\n",
    "    optimizer.step()\n",
    " \n",
    "    print('Epoch {:4d}/{} hypothesis: {} Cost: {:.6f}'.format(epoch, nb_epochs, hypothesis.squeeze().detach(),cost.item()))"
   ]
  },
  {
   "cell_type": "code",
   "execution_count": null,
   "id": "26a65547",
   "metadata": {},
   "outputs": [],
   "source": []
  }
 ],
 "metadata": {
  "kernelspec": {
   "display_name": "Python 3 (ipykernel)",
   "language": "python",
   "name": "python3"
  },
  "language_info": {
   "codemirror_mode": {
    "name": "ipython",
    "version": 3
   },
   "file_extension": ".py",
   "mimetype": "text/x-python",
   "name": "python",
   "nbconvert_exporter": "python",
   "pygments_lexer": "ipython3",
   "version": "3.8.16"
  }
 },
 "nbformat": 4,
 "nbformat_minor": 5
}
